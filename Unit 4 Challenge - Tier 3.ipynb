{
 "cells": [
  {
   "cell_type": "markdown",
   "metadata": {
    "colab_type": "text",
    "id": "Tia3MP1SJpgj"
   },
   "source": [
    "# Springboard Data Science Career Track Unit 4 Challenge - Tier 3 Complete\n",
    "\n",
    "## Objectives\n",
    "Hey! Great job getting through those challenging DataCamp courses. You're learning a lot in a short span of time. \n",
    "\n",
    "In this notebook, you're going to apply the skills you've been learning, bridging the gap between the controlled environment of DataCamp and the *slightly* messier work that data scientists do with actual datasets!\n",
    "\n",
    "Here’s the mystery we’re going to solve: ***which boroughs of London have seen the greatest increase in housing prices, on average, over the last two decades?***\n",
    "\n",
    "\n",
    "A borough is just a fancy word for district. You may be familiar with the five boroughs of New York… well, there are 32 boroughs within Greater London [(here's some info for the curious)](https://en.wikipedia.org/wiki/London_boroughs). Some of them are more desirable areas to live in, and the data will reflect that with a greater rise in housing prices.\n",
    "\n",
    "***This is the Tier 3 notebook, which means it's not filled in at all: we'll just give you the skeleton of a project, the brief and the data. It's up to you to play around with it and see what you can find out! Good luck! If you struggle, feel free to look at easier tiers for help; but try to dip in and out of them, as the more independent work you do, the better it is for your learning!***\n",
    "\n",
    "This challenge will make use of only what you learned in the following DataCamp courses: \n",
    "- Prework courses (Introduction to Python for Data Science, Intermediate Python for Data Science)\n",
    "- Data Types for Data Science\n",
    "- Python Data Science Toolbox (Part One) \n",
    "- pandas Foundations\n",
    "- Manipulating DataFrames with pandas\n",
    "- Merging DataFrames with pandas\n",
    "\n",
    "Of the tools, techniques and concepts in the above DataCamp courses, this challenge should require the application of the following: \n",
    "- **pandas**\n",
    "    - **data ingestion and inspection** (pandas Foundations, Module One) \n",
    "    - **exploratory data analysis** (pandas Foundations, Module Two)\n",
    "    - **tidying and cleaning** (Manipulating DataFrames with pandas, Module Three) \n",
    "    - **transforming DataFrames** (Manipulating DataFrames with pandas, Module One)\n",
    "    - **subsetting DataFrames with lists** (Manipulating DataFrames with pandas, Module One) \n",
    "    - **filtering DataFrames** (Manipulating DataFrames with pandas, Module One) \n",
    "    - **grouping data** (Manipulating DataFrames with pandas, Module Four) \n",
    "    - **melting data** (Manipulating DataFrames with pandas, Module Three) \n",
    "    - **advanced indexing** (Manipulating DataFrames with pandas, Module Four) \n",
    "- **matplotlib** (Intermediate Python for Data Science, Module One)\n",
    "- **fundamental data types** (Data Types for Data Science, Module One) \n",
    "- **dictionaries** (Intermediate Python for Data Science, Module Two)\n",
    "- **handling dates and times** (Data Types for Data Science, Module Four)\n",
    "- **function definition** (Python Data Science Toolbox - Part One, Module One)\n",
    "- **default arguments, variable length, and scope** (Python Data Science Toolbox - Part One, Module Two) \n",
    "- **lambda functions and error handling** (Python Data Science Toolbox - Part One, Module Four) "
   ]
  },
  {
   "cell_type": "markdown",
   "metadata": {
    "colab_type": "text",
    "id": "Ipgd2nV8Jpgl"
   },
   "source": [
    "## The Data Science Pipeline\n",
    "\n",
    "This is Tier Three, so we'll get you started. But after that, it's all in your hands! When you feel done with your investigations, look back over what you've accomplished, and prepare a quick presentation of your findings for the next mentor meeting. \n",
    "\n",
    "Data Science is magical. In this case study, you'll get to apply some complex machine learning algorithms. But as  [David Spiegelhalter](https://www.youtube.com/watch?v=oUs1uvsz0Ok) reminds us, there is no substitute for simply **taking a really, really good look at the data.** Sometimes, this is all we need to answer our question.\n",
    "\n",
    "Data Science projects generally adhere to the four stages of Data Science Pipeline:\n",
    "1. Sourcing and loading \n",
    "2. Cleaning, transforming, and visualizing \n",
    "3. Modeling \n",
    "4. Evaluating and concluding \n"
   ]
  },
  {
   "cell_type": "markdown",
   "metadata": {
    "colab_type": "text",
    "id": "zswDqbefJpgm"
   },
   "source": [
    "### 1. Sourcing and Loading \n",
    "\n",
    "Any Data Science project kicks off by importing  ***pandas***. The documentation of this wonderful library can be found [here](https://pandas.pydata.org/). As you've seen, pandas is conveniently connected to the [Numpy](http://www.numpy.org/) and [Matplotlib](https://matplotlib.org/) libraries. \n",
    "\n",
    "***Hint:*** This part of the data science pipeline will test those skills you acquired in the pandas Foundations course, Module One. "
   ]
  },
  {
   "cell_type": "markdown",
   "metadata": {
    "colab_type": "text",
    "id": "aEau5nEvJpgm"
   },
   "source": [
    "#### 1.1. Importing Libraries"
   ]
  },
  {
   "cell_type": "code",
   "execution_count": 1,
   "metadata": {
    "colab": {},
    "colab_type": "code",
    "id": "7Bt_Q_oPJpgn"
   },
   "outputs": [],
   "source": [
    "# Let's import the pandas, numpy libraries as pd, and np respectively. \n",
    "import pandas as pd\n",
    "import numpy as np\n",
    "\n",
    "# Load the pyplot collection of functions from matplotlib, as plt \n",
    "import matplotlib.pyplot as plt"
   ]
  },
  {
   "cell_type": "markdown",
   "metadata": {
    "colab_type": "text",
    "id": "koUrawxsJpgq"
   },
   "source": [
    "#### 1.2.  Loading the data\n",
    "Your data comes from the [London Datastore](https://data.london.gov.uk/): a free, open-source data-sharing portal for London-oriented datasets. "
   ]
  },
  {
   "cell_type": "code",
   "execution_count": 2,
   "metadata": {
    "colab": {},
    "colab_type": "code",
    "id": "AiLiD4v3Jpgr"
   },
   "outputs": [],
   "source": [
    "# First, make a variable called url_LondonHousePrices, and assign it the following link, enclosed in quotation-marks as a string:\n",
    "# https://data.london.gov.uk/download/uk-house-price-index/70ac0766-8902-4eb5-aab5-01951aaed773/UK%20House%20price%20index.xls\n",
    "\n",
    "url_LondonHousePrices = \"https://data.london.gov.uk/download/uk-house-price-index/70ac0766-8902-4eb5-aab5-01951aaed773/UK%20House%20price%20index.xls\"\n",
    "\n",
    "# The dataset we're interested in contains the Average prices of the houses, and is actually on a particular sheet of the Excel file. \n",
    "# As a result, we need to specify the sheet name in the read_excel() method.\n",
    "# Put this data into a variable called properties.  \n",
    "properties = pd.read_excel(url_LondonHousePrices, sheet_name='Average price', index_col= None)"
   ]
  },
  {
   "cell_type": "markdown",
   "metadata": {
    "colab_type": "text",
    "id": "POukEJXgJpgu"
   },
   "source": [
    "### 2. Cleaning, transforming, and visualizing\n",
    "This second stage is arguably the most important part of any Data Science project. The first thing to do is take a proper look at the data. Cleaning forms the majority of this stage, and can be done both before or after Transformation.\n",
    "\n",
    "The end goal of data cleaning is to have tidy data. When data is tidy: \n",
    "\n",
    "1. Each variable has a column.\n",
    "2. Each observation forms a row.\n",
    "\n",
    "Keep the end goal in mind as you move through this process, every step will take you closer. \n",
    "\n",
    "\n",
    "\n",
    "***Hint:*** This part of the data science pipeline should test those skills you acquired in: \n",
    "- Intermediate Python for data science, all modules.\n",
    "- pandas Foundations, all modules. \n",
    "- Manipulating DataFrames with pandas, all modules.\n",
    "- Data Types for Data Science, Module Four.\n",
    "- Python Data Science Toolbox - Part One, all modules"
   ]
  },
  {
   "cell_type": "markdown",
   "metadata": {
    "colab_type": "text",
    "id": "Te0Q548tnzZa"
   },
   "source": [
    "**2.1. Exploring your data** \n",
    "\n",
    "Think about your pandas functions for checking out a dataframe. "
   ]
  },
  {
   "cell_type": "code",
   "execution_count": 3,
   "metadata": {
    "colab": {},
    "colab_type": "code",
    "id": "Rxirxw_qoAJa"
   },
   "outputs": [
    {
     "name": "stdout",
     "output_type": "stream",
     "text": [
      "  Unnamed: 0 City of London Barking & Dagenham       Barnet       Bexley  \\\n",
      "0        NaT      E09000001          E09000002    E09000003    E09000004   \n",
      "1 1995-01-01    91448.98487         50460.2266  93284.51832  64958.09036   \n",
      "2 1995-02-01    82202.77314        51085.77983  93190.16963  64787.92069   \n",
      "3 1995-03-01    79120.70256        51268.96956  92247.52435  64367.49344   \n",
      "4 1995-04-01    77101.20804        53133.50526  90762.87492  64277.66881   \n",
      "\n",
      "         Brent      Bromley       Camden      Croydon       Ealing  ...  \\\n",
      "0    E09000005    E09000006    E09000007    E09000008    E09000009  ...   \n",
      "1  71306.56698  81671.47692  120932.8881  69158.16225  79885.89069  ...   \n",
      "2  72022.26197  81657.55944  119508.8622  68951.09542  80897.06551  ...   \n",
      "3  72015.76274  81449.31143  120282.2131  68712.44341  81379.86288  ...   \n",
      "4  72965.63094  81124.41227   120097.899  68610.04641  82188.90498  ...   \n",
      "\n",
      "    NORTH WEST YORKS & THE HUMBER EAST MIDLANDS WEST MIDLANDS EAST OF ENGLAND  \\\n",
      "0    E12000002          E12000003     E12000004     E12000005       E12000006   \n",
      "1  43958.48001        44803.42878   45544.52227   48527.52339      56701.5961   \n",
      "2  43925.42289        44528.80721   46051.57066   49341.29029     56593.59475   \n",
      "3   44434.8681        45200.46775   45383.82395   49442.17973     56171.18278   \n",
      "4   44267.7796        45614.34341   46124.23045   49455.93299     56567.89582   \n",
      "\n",
      "        LONDON   SOUTH EAST   SOUTH WEST Unnamed: 47      England  \n",
      "0    E12000007    E12000008    E12000009         NaN    E92000001  \n",
      "1  74435.76052  64018.87894   54705.1579         NaN  53202.77128  \n",
      "2  72777.93709  63715.02399  54356.14843         NaN   53096.1549  \n",
      "3  73896.84204  64113.60858  53583.07667         NaN   53201.2843  \n",
      "4  74455.28754  64623.22395  54786.01938         NaN   53590.8548  \n",
      "\n",
      "[5 rows x 49 columns]\n"
     ]
    }
   ],
   "source": [
    "# Explored dataframe\n",
    "print(properties.head())"
   ]
  },
  {
   "cell_type": "code",
   "execution_count": 4,
   "metadata": {},
   "outputs": [
    {
     "name": "stdout",
     "output_type": "stream",
     "text": [
      "<class 'pandas.core.frame.DataFrame'>\n",
      "RangeIndex: 344 entries, 0 to 343\n",
      "Data columns (total 49 columns):\n",
      " #   Column                Non-Null Count  Dtype         \n",
      "---  ------                --------------  -----         \n",
      " 0   Unnamed: 0            343 non-null    datetime64[ns]\n",
      " 1   City of London        344 non-null    object        \n",
      " 2   Barking & Dagenham    344 non-null    object        \n",
      " 3   Barnet                344 non-null    object        \n",
      " 4   Bexley                344 non-null    object        \n",
      " 5   Brent                 344 non-null    object        \n",
      " 6   Bromley               344 non-null    object        \n",
      " 7   Camden                344 non-null    object        \n",
      " 8   Croydon               344 non-null    object        \n",
      " 9   Ealing                344 non-null    object        \n",
      " 10  Enfield               344 non-null    object        \n",
      " 11  Greenwich             344 non-null    object        \n",
      " 12  Hackney               344 non-null    object        \n",
      " 13  Hammersmith & Fulham  344 non-null    object        \n",
      " 14  Haringey              344 non-null    object        \n",
      " 15  Harrow                344 non-null    object        \n",
      " 16  Havering              344 non-null    object        \n",
      " 17  Hillingdon            344 non-null    object        \n",
      " 18  Hounslow              344 non-null    object        \n",
      " 19  Islington             344 non-null    object        \n",
      " 20  Kensington & Chelsea  344 non-null    object        \n",
      " 21  Kingston upon Thames  344 non-null    object        \n",
      " 22  Lambeth               344 non-null    object        \n",
      " 23  Lewisham              344 non-null    object        \n",
      " 24  Merton                344 non-null    object        \n",
      " 25  Newham                344 non-null    object        \n",
      " 26  Redbridge             344 non-null    object        \n",
      " 27  Richmond upon Thames  344 non-null    object        \n",
      " 28  Southwark             344 non-null    object        \n",
      " 29  Sutton                344 non-null    object        \n",
      " 30  Tower Hamlets         344 non-null    object        \n",
      " 31  Waltham Forest        344 non-null    object        \n",
      " 32  Wandsworth            344 non-null    object        \n",
      " 33  Westminster           344 non-null    object        \n",
      " 34  Unnamed: 34           0 non-null      float64       \n",
      " 35  Inner London          344 non-null    object        \n",
      " 36  Outer London          344 non-null    object        \n",
      " 37  Unnamed: 37           0 non-null      float64       \n",
      " 38  NORTH EAST            344 non-null    object        \n",
      " 39  NORTH WEST            344 non-null    object        \n",
      " 40  YORKS & THE HUMBER    344 non-null    object        \n",
      " 41  EAST MIDLANDS         344 non-null    object        \n",
      " 42  WEST MIDLANDS         344 non-null    object        \n",
      " 43  EAST OF ENGLAND       344 non-null    object        \n",
      " 44  LONDON                344 non-null    object        \n",
      " 45  SOUTH EAST            344 non-null    object        \n",
      " 46  SOUTH WEST            344 non-null    object        \n",
      " 47  Unnamed: 47           0 non-null      float64       \n",
      " 48  England               344 non-null    object        \n",
      "dtypes: datetime64[ns](1), float64(3), object(45)\n",
      "memory usage: 131.8+ KB\n",
      "None\n"
     ]
    }
   ],
   "source": [
    "print(properties.info())"
   ]
  },
  {
   "cell_type": "code",
   "execution_count": 5,
   "metadata": {},
   "outputs": [
    {
     "name": "stdout",
     "output_type": "stream",
     "text": [
      "(344, 49)\n"
     ]
    }
   ],
   "source": [
    "print(properties.shape)"
   ]
  },
  {
   "cell_type": "code",
   "execution_count": 6,
   "metadata": {},
   "outputs": [
    {
     "name": "stdout",
     "output_type": "stream",
     "text": [
      "       Unnamed: 34  Unnamed: 37  Unnamed: 47\n",
      "count          0.0          0.0          0.0\n",
      "mean           NaN          NaN          NaN\n",
      "std            NaN          NaN          NaN\n",
      "min            NaN          NaN          NaN\n",
      "25%            NaN          NaN          NaN\n",
      "50%            NaN          NaN          NaN\n",
      "75%            NaN          NaN          NaN\n",
      "max            NaN          NaN          NaN\n"
     ]
    }
   ],
   "source": [
    "print(properties.describe())"
   ]
  },
  {
   "cell_type": "code",
   "execution_count": 7,
   "metadata": {},
   "outputs": [
    {
     "name": "stdout",
     "output_type": "stream",
     "text": [
      "[[NaT 'E09000001' 'E09000002' ... 'E12000009' nan 'E92000001']\n",
      " [Timestamp('1995-01-01 00:00:00') 91448.98487 50460.2266 ... 54705.1579\n",
      "  nan 53202.77128]\n",
      " [Timestamp('1995-02-01 00:00:00') 82202.77314 51085.77983 ...\n",
      "  54356.14843 nan 53096.1549]\n",
      " ...\n",
      " [Timestamp('2023-05-01 00:00:00') 950246 353413 ... 321890 nan 303052]\n",
      " [Timestamp('2023-06-01 00:00:00') 944505 350114 ... 324263 nan 307276]\n",
      " [Timestamp('2023-07-01 00:00:00') 905489 343291 ... 323713 nan 308633]]\n"
     ]
    }
   ],
   "source": [
    "print(properties.values)"
   ]
  },
  {
   "cell_type": "code",
   "execution_count": 8,
   "metadata": {},
   "outputs": [
    {
     "name": "stdout",
     "output_type": "stream",
     "text": [
      "Index(['Unnamed: 0', 'City of London', 'Barking & Dagenham', 'Barnet',\n",
      "       'Bexley', 'Brent', 'Bromley', 'Camden', 'Croydon', 'Ealing', 'Enfield',\n",
      "       'Greenwich', 'Hackney', 'Hammersmith & Fulham', 'Haringey', 'Harrow',\n",
      "       'Havering', 'Hillingdon', 'Hounslow', 'Islington',\n",
      "       'Kensington & Chelsea', 'Kingston upon Thames', 'Lambeth', 'Lewisham',\n",
      "       'Merton', 'Newham', 'Redbridge', 'Richmond upon Thames', 'Southwark',\n",
      "       'Sutton', 'Tower Hamlets', 'Waltham Forest', 'Wandsworth',\n",
      "       'Westminster', 'Unnamed: 34', 'Inner London', 'Outer London',\n",
      "       'Unnamed: 37', 'NORTH EAST', 'NORTH WEST', 'YORKS & THE HUMBER',\n",
      "       'EAST MIDLANDS', 'WEST MIDLANDS', 'EAST OF ENGLAND', 'LONDON',\n",
      "       'SOUTH EAST', 'SOUTH WEST', 'Unnamed: 47', 'England'],\n",
      "      dtype='object')\n"
     ]
    }
   ],
   "source": [
    "print(properties.columns)"
   ]
  },
  {
   "cell_type": "code",
   "execution_count": 9,
   "metadata": {},
   "outputs": [
    {
     "name": "stdout",
     "output_type": "stream",
     "text": [
      "RangeIndex(start=0, stop=344, step=1)\n"
     ]
    }
   ],
   "source": [
    "print(properties.index)"
   ]
  },
  {
   "cell_type": "markdown",
   "metadata": {
    "colab_type": "text",
    "id": "tE9Sqt9-oAta"
   },
   "source": [
    "**2.2. Cleaning the data**\n",
    "\n",
    "You might find you need to transpose your dataframe, check out what its row indexes are, and reset the index. You  also might find you need to assign the values of the first row to your column headings  . (Hint: recall the .columns feature of DataFrames, as well as the iloc[] method).\n",
    "\n",
    "Don't be afraid to use StackOverflow for help  with this."
   ]
  },
  {
   "cell_type": "code",
   "execution_count": 10,
   "metadata": {
    "colab": {},
    "colab_type": "code",
    "id": "cdAu1A3YoH_r"
   },
   "outputs": [
    {
     "name": "stdout",
     "output_type": "stream",
     "text": [
      "0          Unnamed: 0        NaT 1995-01-01 00:00:00 1995-02-01 00:00:00  \\\n",
      "1      City of London  E09000001         91448.98487         82202.77314   \n",
      "2  Barking & Dagenham  E09000002          50460.2266         51085.77983   \n",
      "3              Barnet  E09000003         93284.51832         93190.16963   \n",
      "4              Bexley  E09000004         64958.09036         64787.92069   \n",
      "5               Brent  E09000005         71306.56698         72022.26197   \n",
      "\n",
      "0 1995-03-01 00:00:00 1995-04-01 00:00:00 1995-05-01 00:00:00  \\\n",
      "1         79120.70256         77101.20804         84409.14932   \n",
      "2         51268.96956         53133.50526         53042.24852   \n",
      "3         92247.52435         90762.87492         90258.00033   \n",
      "4         64367.49344         64277.66881         63997.13588   \n",
      "5         72015.76274         72965.63094         73704.04743   \n",
      "\n",
      "0 1995-06-01 00:00:00 1995-07-01 00:00:00 1995-08-01 00:00:00  ...  \\\n",
      "1         94900.51244         110128.0423         112329.4376  ...   \n",
      "2         53700.34831         52113.12157         52232.19868  ...   \n",
      "3         90107.23471         91441.24768         92361.31512  ...   \n",
      "4         64252.32335         63722.70055         64432.60005  ...   \n",
      "5         74310.48167         74127.03788          73547.0411  ...   \n",
      "\n",
      "0 2022-10-01 00:00:00 2022-11-01 00:00:00 2022-12-01 00:00:00  \\\n",
      "1              973458             1004759              988570   \n",
      "2              349905              353775              356888   \n",
      "3              600364              592924              593473   \n",
      "4              410408              409900              409256   \n",
      "5              570358              563989              554012   \n",
      "\n",
      "0 2023-01-01 00:00:00 2023-02-01 00:00:00 2023-03-01 00:00:00  \\\n",
      "1              976404              881547              927741   \n",
      "2              353797              346090              344370   \n",
      "3              599019              605323              598176   \n",
      "4              401196              402751              401053   \n",
      "5              549994              535840              527463   \n",
      "\n",
      "0 2023-04-01 00:00:00 2023-05-01 00:00:00 2023-06-01 00:00:00  \\\n",
      "1              901007              950246              944505   \n",
      "2              351138              353413              350114   \n",
      "3              588643              575647              578354   \n",
      "4              402643              396776              396579   \n",
      "5              529353              531901              538223   \n",
      "\n",
      "0 2023-07-01 00:00:00  \n",
      "1              905489  \n",
      "2              343291  \n",
      "3              587570  \n",
      "4              401134  \n",
      "5              523184  \n",
      "\n",
      "[5 rows x 345 columns]\n"
     ]
    }
   ],
   "source": [
    "# Transposed data and reset row index\n",
    "trans_index = properties.transpose().reset_index()\n",
    "\n",
    "# Assigned values of the first row to column headings\n",
    "trans_index.columns = trans_index.iloc[0]\n",
    "cleaned1 = trans_index.drop(0)\n",
    "\n",
    "# Printed dataframe\n",
    "print(cleaned1.head())"
   ]
  },
  {
   "cell_type": "markdown",
   "metadata": {
    "colab_type": "text",
    "id": "o1uLbJAsoIjK"
   },
   "source": [
    "**2.3. Cleaning the data (part 2)**\n",
    "\n",
    "You might we have to **rename** a couple columns. How do you do this? The clue's pretty bold..."
   ]
  },
  {
   "cell_type": "code",
   "execution_count": 11,
   "metadata": {
    "colab": {},
    "colab_type": "code",
    "id": "GKkmn1AnoVZS"
   },
   "outputs": [
    {
     "name": "stdout",
     "output_type": "stream",
     "text": [
      "0      London Borough         ID 1995-01-01 00:00:00 1995-02-01 00:00:00  \\\n",
      "1      City of London  E09000001         91448.98487         82202.77314   \n",
      "2  Barking & Dagenham  E09000002          50460.2266         51085.77983   \n",
      "3              Barnet  E09000003         93284.51832         93190.16963   \n",
      "4              Bexley  E09000004         64958.09036         64787.92069   \n",
      "5               Brent  E09000005         71306.56698         72022.26197   \n",
      "\n",
      "0 1995-03-01 00:00:00 1995-04-01 00:00:00 1995-05-01 00:00:00  \\\n",
      "1         79120.70256         77101.20804         84409.14932   \n",
      "2         51268.96956         53133.50526         53042.24852   \n",
      "3         92247.52435         90762.87492         90258.00033   \n",
      "4         64367.49344         64277.66881         63997.13588   \n",
      "5         72015.76274         72965.63094         73704.04743   \n",
      "\n",
      "0 1995-06-01 00:00:00 1995-07-01 00:00:00 1995-08-01 00:00:00  ...  \\\n",
      "1         94900.51244         110128.0423         112329.4376  ...   \n",
      "2         53700.34831         52113.12157         52232.19868  ...   \n",
      "3         90107.23471         91441.24768         92361.31512  ...   \n",
      "4         64252.32335         63722.70055         64432.60005  ...   \n",
      "5         74310.48167         74127.03788          73547.0411  ...   \n",
      "\n",
      "0 2022-10-01 00:00:00 2022-11-01 00:00:00 2022-12-01 00:00:00  \\\n",
      "1              973458             1004759              988570   \n",
      "2              349905              353775              356888   \n",
      "3              600364              592924              593473   \n",
      "4              410408              409900              409256   \n",
      "5              570358              563989              554012   \n",
      "\n",
      "0 2023-01-01 00:00:00 2023-02-01 00:00:00 2023-03-01 00:00:00  \\\n",
      "1              976404              881547              927741   \n",
      "2              353797              346090              344370   \n",
      "3              599019              605323              598176   \n",
      "4              401196              402751              401053   \n",
      "5              549994              535840              527463   \n",
      "\n",
      "0 2023-04-01 00:00:00 2023-05-01 00:00:00 2023-06-01 00:00:00  \\\n",
      "1              901007              950246              944505   \n",
      "2              351138              353413              350114   \n",
      "3              588643              575647              578354   \n",
      "4              402643              396776              396579   \n",
      "5              529353              531901              538223   \n",
      "\n",
      "0 2023-07-01 00:00:00  \n",
      "1              905489  \n",
      "2              343291  \n",
      "3              587570  \n",
      "4              401134  \n",
      "5              523184  \n",
      "\n",
      "[5 rows x 345 columns]\n"
     ]
    }
   ],
   "source": [
    "# Renamed columns\n",
    "cleaned2 = cleaned1.rename(columns={'Unnamed: 0': 'London Borough', pd.NaT: 'ID'})\n",
    "\n",
    "# Printed dataframe\n",
    "print(cleaned2.head())"
   ]
  },
  {
   "cell_type": "code",
   "execution_count": 12,
   "metadata": {},
   "outputs": [
    {
     "name": "stdout",
     "output_type": "stream",
     "text": [
      "1 City of London\n",
      "2 Barking & Dagenham\n",
      "3 Barnet\n",
      "4 Bexley\n",
      "5 Brent\n",
      "6 Bromley\n",
      "7 Camden\n",
      "8 Croydon\n",
      "9 Ealing\n",
      "10 Enfield\n",
      "11 Greenwich\n",
      "12 Hackney\n",
      "13 Hammersmith & Fulham\n",
      "14 Haringey\n",
      "15 Harrow\n",
      "16 Havering\n",
      "17 Hillingdon\n",
      "18 Hounslow\n",
      "19 Islington\n",
      "20 Kensington & Chelsea\n",
      "21 Kingston upon Thames\n",
      "22 Lambeth\n",
      "23 Lewisham\n",
      "24 Merton\n",
      "25 Newham\n",
      "26 Redbridge\n",
      "27 Richmond upon Thames\n",
      "28 Southwark\n",
      "29 Sutton\n",
      "30 Tower Hamlets\n",
      "31 Waltham Forest\n",
      "32 Wandsworth\n",
      "33 Westminster\n",
      "34 Unnamed: 34\n",
      "35 Inner London\n",
      "36 Outer London\n",
      "37 Unnamed: 37\n",
      "38 NORTH EAST\n",
      "39 NORTH WEST\n",
      "40 YORKS & THE HUMBER\n",
      "41 EAST MIDLANDS\n",
      "42 WEST MIDLANDS\n",
      "43 EAST OF ENGLAND\n",
      "44 LONDON\n",
      "45 SOUTH EAST\n",
      "46 SOUTH WEST\n",
      "47 Unnamed: 47\n",
      "48 England\n"
     ]
    }
   ],
   "source": [
    "# Printed list of index and borough names to see which rows to delete\n",
    "for index,row in cleaned2.iterrows():\n",
    "    print(index,row['London Borough'])"
   ]
  },
  {
   "cell_type": "code",
   "execution_count": 13,
   "metadata": {},
   "outputs": [
    {
     "name": "stdout",
     "output_type": "stream",
     "text": [
      "1 City of London\n",
      "2 Barking & Dagenham\n",
      "3 Barnet\n",
      "4 Bexley\n",
      "5 Brent\n",
      "6 Bromley\n",
      "7 Camden\n",
      "8 Croydon\n",
      "9 Ealing\n",
      "10 Enfield\n",
      "11 Greenwich\n",
      "12 Hackney\n",
      "13 Hammersmith & Fulham\n",
      "14 Haringey\n",
      "15 Harrow\n",
      "16 Havering\n",
      "17 Hillingdon\n",
      "18 Hounslow\n",
      "19 Islington\n",
      "20 Kensington & Chelsea\n",
      "21 Kingston upon Thames\n",
      "22 Lambeth\n",
      "23 Lewisham\n",
      "24 Merton\n",
      "25 Newham\n",
      "26 Redbridge\n",
      "27 Richmond upon Thames\n",
      "28 Southwark\n",
      "29 Sutton\n",
      "30 Tower Hamlets\n",
      "31 Waltham Forest\n",
      "32 Wandsworth\n",
      "33 Westminster\n"
     ]
    }
   ],
   "source": [
    "# Deleted rows for non-boropugh locations\n",
    "cleaned3 = cleaned2.drop(cleaned2.index[33:])\n",
    "\n",
    "# Printed list of boroughs\n",
    "for index,row in cleaned3.iterrows():\n",
    "    print(index,row['London Borough'])"
   ]
  },
  {
   "cell_type": "markdown",
   "metadata": {
    "colab_type": "text",
    "id": "jy8BzXHmoWEw"
   },
   "source": [
    "**2.4.Transforming the data**\n",
    "\n",
    "Remember what Wes McKinney said about tidy data? \n",
    "\n",
    "You might need to **melt** your DataFrame here. "
   ]
  },
  {
   "cell_type": "code",
   "execution_count": 19,
   "metadata": {
    "colab": {},
    "colab_type": "code",
    "id": "S2wM0qLuo2Zt"
   },
   "outputs": [
    {
     "name": "stdout",
     "output_type": "stream",
     "text": [
      "       London Borough         ID      Month Average Price\n",
      "0      City of London  E09000001 1995-01-01   91448.98487\n",
      "1  Barking & Dagenham  E09000002 1995-01-01    50460.2266\n",
      "2              Barnet  E09000003 1995-01-01   93284.51832\n",
      "3              Bexley  E09000004 1995-01-01   64958.09036\n",
      "4               Brent  E09000005 1995-01-01   71306.56698\n"
     ]
    }
   ],
   "source": [
    "# Melted dataframe\n",
    "melted = pd.melt(cleaned3, id_vars=[\"London Borough\", \"ID\"], var_name='Month', value_name='Average Price')\n",
    "\n",
    "# Printed dataframe\n",
    "print(melted.head())"
   ]
  },
  {
   "cell_type": "markdown",
   "metadata": {
    "colab_type": "text",
    "id": "7kIsgAo7o3mf"
   },
   "source": [
    "Remember to make sure your column data types are all correct. Average prices, for example, should be floating point numbers... "
   ]
  },
  {
   "cell_type": "code",
   "execution_count": 20,
   "metadata": {
    "colab": {},
    "colab_type": "code",
    "id": "ZcR4IHbcpOaq"
   },
   "outputs": [
    {
     "name": "stdout",
     "output_type": "stream",
     "text": [
      "London Borough            object\n",
      "ID                        object\n",
      "Month             datetime64[ns]\n",
      "Average Price             object\n",
      "dtype: object\n"
     ]
    }
   ],
   "source": [
    "# Checked data type of columns in 'melted' dataframe\n",
    "print(melted.dtypes)"
   ]
  },
  {
   "cell_type": "code",
   "execution_count": 21,
   "metadata": {},
   "outputs": [
    {
     "name": "stdout",
     "output_type": "stream",
     "text": [
      "London Borough            object\n",
      "ID                        object\n",
      "Month             datetime64[ns]\n",
      "Average Price            float64\n",
      "dtype: object\n"
     ]
    }
   ],
   "source": [
    "# Changed data type of 'Average Price' column from 'object' to floating point numbers\n",
    "melted['Average Price'] = melted['Average Price'].astype(float)\n",
    "\n",
    "# Checked data type of columns in 'melted' dataframe\n",
    "print(melted.dtypes)"
   ]
  },
  {
   "cell_type": "markdown",
   "metadata": {
    "colab_type": "text",
    "id": "knLUXHLypOtw"
   },
   "source": [
    "**2.5. Cleaning the data (part 3)**\n",
    "\n",
    "Do we have an equal number of observations in the ID, Average Price, Month, and London Borough columns? Remember that there are only 32 London Boroughs. How many entries do you have in that column? \n",
    "\n",
    "Check out the contents of the London Borough column, and if you find null values, get rid of them however you see fit. "
   ]
  },
  {
   "cell_type": "code",
   "execution_count": 22,
   "metadata": {
    "colab": {},
    "colab_type": "code",
    "id": "BnvTW5a3p0fC"
   },
   "outputs": [
    {
     "data": {
      "text/plain": [
       "array(['City of London', 'Barking & Dagenham', 'Barnet', 'Bexley',\n",
       "       'Brent', 'Bromley', 'Camden', 'Croydon', 'Ealing', 'Enfield',\n",
       "       'Greenwich', 'Hackney', 'Hammersmith & Fulham', 'Haringey',\n",
       "       'Harrow', 'Havering', 'Hillingdon', 'Hounslow', 'Islington',\n",
       "       'Kensington & Chelsea', 'Kingston upon Thames', 'Lambeth',\n",
       "       'Lewisham', 'Merton', 'Newham', 'Redbridge',\n",
       "       'Richmond upon Thames', 'Southwark', 'Sutton', 'Tower Hamlets',\n",
       "       'Waltham Forest', 'Wandsworth', 'Westminster'], dtype=object)"
      ]
     },
     "execution_count": 22,
     "metadata": {},
     "output_type": "execute_result"
    }
   ],
   "source": [
    "# Checked London Borough column for values that are not burough names\n",
    "melted['London Borough'].unique()"
   ]
  },
  {
   "cell_type": "markdown",
   "metadata": {
    "colab_type": "text",
    "id": "PGEx6mJsp6dG"
   },
   "source": [
    "**2.6. Visualizing the data**\n",
    "\n",
    "To visualize the data, why not subset on a particular London Borough? Maybe do a line plot of Month against Average Price?"
   ]
  },
  {
   "cell_type": "code",
   "execution_count": 31,
   "metadata": {
    "colab": {},
    "colab_type": "code",
    "id": "nAg5pT9cqHAR"
   },
   "outputs": [
    {
     "data": {
      "image/png": "[encoded data removed]",
      "text/plain": [
       "<Figure size 640x480 with 1 Axes>"
      ]
     },
     "metadata": {},
     "output_type": "display_data"
    }
   ],
   "source": [
    "# Subsetted the Harrow data from cleaned3\n",
    "viz_Harrow1 = melted[melted['London Borough'] == 'Harrow']\n",
    "\n",
    "# Plotted the LONDON data in a line graph\n",
    "plt.plot(viz_Harrow1['Month'], viz_Harrow1['Average Price'])\n",
    "plt.show()"
   ]
  },
  {
   "cell_type": "markdown",
   "metadata": {
    "colab_type": "text",
    "id": "aWTPqSJeqHnC"
   },
   "source": [
    "To limit the number of data points you have, you might want to extract the year from every month value your *Month* column. \n",
    "\n",
    "To this end, you *could* apply a ***lambda function***. Your logic could work as follows:\n",
    "1. look through the `Month` column\n",
    "2. extract the year from each individual value in that column \n",
    "3. store that corresponding year as separate column. \n",
    "\n",
    "Whether you go ahead with this is up to you. Just so long as you answer our initial brief: which boroughs of London have seen the greatest house price increase, on average, over the past two decades? "
   ]
  },
  {
   "cell_type": "code",
   "execution_count": 29,
   "metadata": {},
   "outputs": [
    {
     "name": "stdout",
     "output_type": "stream",
     "text": [
      "       London Borough         ID      Month  Average Price  Year\n",
      "0      City of London  E09000001 1995-01-01    91448.98487  1995\n",
      "1  Barking & Dagenham  E09000002 1995-01-01    50460.22660  1995\n",
      "2              Barnet  E09000003 1995-01-01    93284.51832  1995\n",
      "3              Bexley  E09000004 1995-01-01    64958.09036  1995\n",
      "4               Brent  E09000005 1995-01-01    71306.56698  1995\n"
     ]
    }
   ],
   "source": [
    "# Copied DataFrame before adding a 'Year' column\n",
    "year_added = melted.copy()\n",
    "\n",
    "# Added a 'Year' column containting years pulled from the month column\n",
    "year_added['Year'] = melted['Month'].apply(lambda month: month.year)\n",
    "\n",
    "# Printed dataframe\n",
    "print(year_added.head())"
   ]
  },
  {
   "cell_type": "code",
   "execution_count": 37,
   "metadata": {},
   "outputs": [
    {
     "name": "stdout",
     "output_type": "stream",
     "text": [
      "       London Borough  Year  Average Price\n",
      "0  Barking & Dagenham  1995   51817.969390\n",
      "1  Barking & Dagenham  1996   51718.192690\n",
      "2  Barking & Dagenham  1997   55974.262309\n",
      "3  Barking & Dagenham  1998   60285.821083\n",
      "4  Barking & Dagenham  1999   65320.934441\n"
     ]
    }
   ],
   "source": [
    "# Took the mean of 'Average Price' for each 'London Borough' and 'Year' and reset index\n",
    "year_mean = year_added.groupby(['London Borough', 'Year'])['Average Price'].mean().reset_index()\n",
    "\n",
    "# Printed dataframe\n",
    "print(year_mean.head())"
   ]
  },
  {
   "cell_type": "code",
   "execution_count": 38,
   "metadata": {},
   "outputs": [
    {
     "data": {
      "image/png": "[encoded data removed]",
      "text/plain": [
       "<Figure size 640x480 with 1 Axes>"
      ]
     },
     "metadata": {},
     "output_type": "display_data"
    }
   ],
   "source": [
    "# Created a pivot table with a boroughs as rows, columns as years, and values as mean prices \n",
    "pivot_table = year_mean.pivot_table(index='London Borough', columns='Year', values='Average Price').reset_index()\n",
    "\n",
    "# Subsetted the Harrow data from year_mean\n",
    "viz_Harrow2 = year_mean[year_mean['London Borough'] == 'Harrow']\n",
    "\n",
    "# Plotted the LONDON data in a line graph\n",
    "plt.plot(viz_Harrow2['Year'], viz_Harrow2['Average Price'])\n",
    "plt.show()"
   ]
  },
  {
   "cell_type": "markdown",
   "metadata": {
    "colab_type": "text",
    "id": "2knuTxAEqoJ4"
   },
   "source": [
    "**3. Modeling**\n",
    "\n",
    "Consider creating a function that will calculate a ratio of house prices, comparing the price of a house in 2018 to the price in 1998.\n",
    "\n",
    "Consider calling this function create_price_ratio.\n",
    "\n",
    "You'd want this function to:\n",
    "1. Take a filter of dfg, specifically where this filter constrains the London_Borough, as an argument. For example, one admissible argument should be: dfg[dfg['London_Borough']=='Camden'].\n",
    "2. Get the Average Price for that Borough, for the years 1998 and 2018.\n",
    "4. Calculate the ratio of the Average Price for 1998 divided by the Average Price for 2018.\n",
    "5. Return that ratio.\n",
    "\n",
    "Once you've written this function, you ultimately want to use it to iterate through all the unique London_Boroughs and work out the ratio capturing the difference of house prices between 1998 and 2018.\n",
    "\n",
    "Bear in mind: you don't have to write a function like this if you don't want to. If you can solve the brief otherwise, then great! \n",
    "\n",
    "***Hint***: This section should test the skills you acquired in:\n",
    "- Python Data Science Toolbox - Part One, all modules"
   ]
  },
  {
   "cell_type": "code",
   "execution_count": 39,
   "metadata": {
    "colab": {},
    "colab_type": "code",
    "id": "cKTyr437UgDa",
    "scrolled": true
   },
   "outputs": [
    {
     "name": "stdout",
     "output_type": "stream",
     "text": [
      "Year      London Borough           1998           2018\n",
      "0     Barking & Dagenham   60285.821083  295196.673612\n",
      "1                 Barnet  122359.468033  533266.534055\n",
      "2                 Bexley   80632.020822  342603.605654\n",
      "3                  Brent  100692.590417  492845.371252\n",
      "4                Bromley  108286.520467  443409.985635\n"
     ]
    }
   ],
   "source": [
    "#filters pivot table to the years 1998 and 2018\n",
    "selected_columns = pivot_table[['London Borough',1998, 2018]]\n",
    "\n",
    "# Printed dataframe\n",
    "print(selected_columns.head())"
   ]
  },
  {
   "cell_type": "code",
   "execution_count": 40,
   "metadata": {},
   "outputs": [
    {
     "name": "stdout",
     "output_type": "stream",
     "text": [
      "Year        London Borough           1998           2018     Ratio\n",
      "17                Hounslow   99746.069682  396631.179788  0.251483\n",
      "26    Richmond upon Thames  162956.066025  652665.426320  0.249678\n",
      "14                  Harrow  114778.250067  465907.463252  0.246354\n",
      "4                  Bromley  108286.520467  443409.985635  0.244213\n",
      "28                  Sutton   92087.045921  379262.580582  0.242806\n",
      "12    Hammersmith & Fulham  175340.921250  725525.331140  0.241674\n",
      "16              Hillingdon   97676.048952  410266.079010  0.238080\n",
      "7                  Croydon   88143.228830  370298.543320  0.238033\n",
      "2                   Bexley   80632.020822  342603.605654  0.235351\n",
      "9                  Enfield   93030.224322  396631.717802  0.234551\n",
      "20    Kingston upon Thames  116399.769158  497090.978480  0.234162\n",
      "8                   Ealing  111343.154650  480050.544561  0.231940\n",
      "15                Havering   85602.087978  370248.750770  0.231202\n",
      "1                   Barnet  122359.468033  533266.534055  0.229453\n",
      "25               Redbridge   94514.395822  422591.065915  0.223655\n"
     ]
    }
   ],
   "source": [
    "# Copied DataFrame before adding a 'Ratio' column\n",
    "ratio = selected_columns.copy()\n",
    "\n",
    "# Calculated ratio of 1998 to 2018\n",
    "ratio['Ratio'] = selected_columns[1998] / selected_columns[2018]\n",
    "\n",
    "# Printed dataframe\n",
    "top15 = ratio.sort_values(by='Ratio', ascending=False).head(15)\n",
    "print(top15)"
   ]
  },
  {
   "cell_type": "code",
   "execution_count": 36,
   "metadata": {},
   "outputs": [
    {
     "data": {
      "text/plain": [
       "([0, 1, 2, 3, 4, 5, 6, 7, 8, 9, 10, 11, 12, 13, 14],\n",
       " [Text(0, 0, 'Hounslow'),\n",
       "  Text(1, 0, 'Richmond upon Thames'),\n",
       "  Text(2, 0, 'Harrow'),\n",
       "  Text(3, 0, 'Bromley'),\n",
       "  Text(4, 0, 'Sutton'),\n",
       "  Text(5, 0, 'Hammersmith & Fulham'),\n",
       "  Text(6, 0, 'Hillingdon'),\n",
       "  Text(7, 0, 'Croydon'),\n",
       "  Text(8, 0, 'Bexley'),\n",
       "  Text(9, 0, 'Enfield'),\n",
       "  Text(10, 0, 'Kingston upon Thames'),\n",
       "  Text(11, 0, 'Ealing'),\n",
       "  Text(12, 0, 'Havering'),\n",
       "  Text(13, 0, 'Barnet'),\n",
       "  Text(14, 0, 'Redbridge')])"
      ]
     },
     "execution_count": 36,
     "metadata": {},
     "output_type": "execute_result"
    },
    {
     "data": {
      "image/png": "[encoded data removed]",
      "text/plain": [
       "<Figure size 640x480 with 1 Axes>"
      ]
     },
     "metadata": {},
     "output_type": "display_data"
    }
   ],
   "source": [
    "# Created bar graph\n",
    "plt.bar(top15['London Borough'], top15['Ratio'])\n",
    "plt.title('Top 15 Average Increases in Housing Prices in London Boroughs Over 20 Years')\n",
    "plt.xlabel('Borough')\n",
    "plt.ylabel('Ratio from 1998 to 2018')\n",
    "plt.xticks(rotation=90)"
   ]
  },
  {
   "cell_type": "markdown",
   "metadata": {
    "colab_type": "text",
    "id": "NzYUI7FxJpgv"
   },
   "source": [
    "### 4. Conclusion\n",
    "What can you conclude? Type out your conclusion below. \n",
    "\n",
    "Look back at your notebook. Think about how you might summarize what you have done, and prepare a quick presentation on it to your mentor at your next meeting. \n",
    "\n",
    "We hope you enjoyed this practical project. It should have consolidated your data hygiene and pandas skills by looking at a real-world problem involving just the kind of dataset you might encounter as a budding data scientist. Congratulations, and looking forward to seeing you at the next step in the course! "
   ]
  },
  {
   "cell_type": "code",
   "execution_count": null,
   "metadata": {},
   "outputs": [],
   "source": [
    "# The Hounslow borough of London has seen the greatest average increase in housing prices\n",
    "# over the two decades (1998-2018) of data covered by the dataset."
   ]
  }
 ],
 "metadata": {
  "colab": {
   "collapsed_sections": [],
   "name": "Springboard Data Science Career Track Unit 4 Challenge - Tier 3 Complete .ipynb",
   "provenance": []
  },
  "kernelspec": {
   "display_name": "Python 3 (ipykernel)",
   "language": "python",
   "name": "python3"
  },
  "language_info": {
   "codemirror_mode": {
    "name": "ipython",
    "version": 3
   },
   "file_extension": ".py",
   "mimetype": "text/x-python",
   "name": "python",
   "nbconvert_exporter": "python",
   "pygments_lexer": "ipython3",
   "version": "3.11.4"
  }
 },
 "nbformat": 4,
 "nbformat_minor": 1
}
