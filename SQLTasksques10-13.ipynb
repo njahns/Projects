{
 "cells": [
  {
   "cell_type": "code",
   "execution_count": 5,
   "id": "613a97f3",
   "metadata": {},
   "outputs": [
    {
     "name": "stdout",
     "output_type": "stream",
     "text": [
      "(0, 'Tennis Court 1', 5, 25, 10000, 200)\n",
      "(1, 'Tennis Court 2', 5, 25, 8000, 200)\n",
      "(2, 'Badminton Court', 0, 15.5, 4000, 50)\n",
      "(3, 'Table Tennis', 0, 5, 320, 10)\n",
      "(4, 'Massage Room 1', 9.9, 80, 4000, 3000)\n",
      "(5, 'Massage Room 2', 9.9, 80, 4000, 3000)\n",
      "(6, 'Squash Court', 3.5, 17.5, 5000, 80)\n",
      "(7, 'Snooker Table', 0, 5, 450, 15)\n",
      "(8, 'Pool Table', 0, 5, 400, 15)\n"
     ]
    }
   ],
   "source": [
    "import sqlite3\n",
    "conn = sqlite3.connect('sqlite_db_pythonsqlite.db')\n",
    "c = conn.cursor()\n",
    "for row in c.execute(\"SELECT * FROM Facilities\"):\n",
    "    print(row)"
   ]
  },
  {
   "cell_type": "code",
   "execution_count": 14,
   "id": "768067c3",
   "metadata": {},
   "outputs": [
    {
     "name": "stdout",
     "output_type": "stream",
     "text": [
      "('Badminton Court', 604.5)\n",
      "('Table Tennis', 90)\n",
      "('Snooker Table', 115)\n",
      "('Pool Table', 265)\n"
     ]
    }
   ],
   "source": [
    "#Q10: Produce a list of facilities with a total revenue less than 1000.\n",
    "#The output of facility name and total revenue, sorted by revenue. Remember\n",
    "#that there's a different cost for guests and members!\n",
    "\n",
    "for row in c.execute(\n",
    "\"\"\"SELECT sub.name, SUM(sub.revenue) AS revenue\n",
    "FROM (\n",
    "    SELECT b.facid, f.name, COUNT(b.facid) AS facid_count,\n",
    "        CASE\n",
    "            WHEN b.memid = 0 THEN COUNT(f.name) * f.guestcost\n",
    "            ELSE COUNT(f.name) * f.membercost\n",
    "        END AS 'revenue'\n",
    "    FROM Bookings AS b\n",
    "    LEFT JOIN Facilities AS f ON b.facid = f.facid\n",
    "    GROUP BY f.name, b.memid\n",
    ") AS sub\n",
    "GROUP BY sub.facid\n",
    "HAVING revenue <= 1000;\"\"\"                     \n",
    "                     ):\n",
    "    print(row)"
   ]
  },
  {
   "cell_type": "code",
   "execution_count": 15,
   "id": "57b4d98c",
   "metadata": {},
   "outputs": [
    {
     "name": "stdout",
     "output_type": "stream",
     "text": [
      "(None, 'GUEST, GUEST')\n",
      "(None, 'Dare, Nancy')\n",
      "(None, 'Boothe, Tim')\n",
      "(None, 'Owen, Charles')\n",
      "(None, 'Baker, Anne')\n",
      "(None, 'Smith, Jack')\n",
      "(None, 'Pinker, David')\n",
      "(None, 'Mackenzie, Anna')\n",
      "(None, 'Coplin, Joan')\n",
      "(None, 'Sarwin, Ramnaresh')\n",
      "(None, 'Jones, Douglas')\n",
      "(None, 'Rumney, Henrietta')\n",
      "(None, 'Farrell, David')\n",
      "(None, 'Worthington-Smyth, Henry')\n",
      "(None, 'Tupperware, Hyacinth')\n",
      "(None, 'Hunt, John')\n",
      "(None, 'Crumpet, Erica')\n",
      "(None, 'Smith, Darren')\n",
      "('Bader, Florence', 'Stibbons, Ponder')\n",
      "('Baker, Anne', 'Stibbons, Ponder')\n",
      "('Baker, Timothy', 'Farrell, Jemima')\n",
      "('Boothe, Tim', 'Rownam, Tim')\n",
      "('Butters, Gerald', 'Smith, Darren')\n",
      "('Coplin, Joan', 'Baker, Timothy')\n",
      "('Crumpet, Erica', 'Smith, Tracy')\n",
      "('Dare, Nancy', 'Joplette, Janice')\n",
      "('Genting, Matthew', 'Butters, Gerald')\n",
      "('Hunt, John', 'Purview, Millicent')\n",
      "('Jones, David', 'Joplette, Janice')\n",
      "('Jones, Douglas', 'Jones, David')\n",
      "('Joplette, Janice', 'Smith, Darren')\n",
      "('Mackenzie, Anna', 'Smith, Darren')\n",
      "('Owen, Charles', 'Smith, Darren')\n",
      "('Pinker, David', 'Farrell, Jemima')\n",
      "('Purview, Millicent', 'Smith, Tracy')\n",
      "('Rumney, Henrietta', 'Genting, Matthew')\n",
      "('Sarwin, Ramnaresh', 'Bader, Florence')\n",
      "('Smith, Jack', 'Smith, Darren')\n",
      "('Stibbons, Ponder', 'Tracy, Burton')\n",
      "('Worthington-Smyth, Henry', 'Smith, Tracy')\n"
     ]
    }
   ],
   "source": [
    "#Q11: Produce a report of members and who recommended them in alphabetic surname,firstname order\n",
    "\n",
    "for row in c.execute(\n",
    "\"\"\"SELECT m2.surname || ', ' || m2.firstname AS member, m1.surname || ', ' || m1.firstname AS recommendedby\n",
    "FROM Members AS m1\n",
    "LEFT JOIN Members AS m2 ON m2.recommendedby = m1.memid\n",
    "ORDER BY member;\"\"\"                     \n",
    "                     ):\n",
    "    print(row)"
   ]
  },
  {
   "cell_type": "code",
   "execution_count": 16,
   "id": "e47a4516",
   "metadata": {},
   "outputs": [
    {
     "name": "stdout",
     "output_type": "stream",
     "text": [
      "('Badminton Court', 1086)\n",
      "('Massage Room 1', 884)\n",
      "('Massage Room 2', 54)\n",
      "('Pool Table', 856)\n",
      "('Snooker Table', 860)\n",
      "('Squash Court', 418)\n",
      "('Table Tennis', 794)\n",
      "('Tennis Court 1', 957)\n",
      "('Tennis Court 2', 882)\n"
     ]
    }
   ],
   "source": [
    "#Q12: Find the facilities with their usage by member, but not guests\n",
    "\n",
    "for row in c.execute(\n",
    "\"\"\"SELECT f.name as facility, sum(b.slots) AS visits\n",
    "FROM Facilities AS f\n",
    "LEFT JOIN Bookings as b\n",
    "ON f.facid = b.facid\n",
    "WHERE b.memid <> 0\n",
    "GROUP BY facility;\"\"\"                     \n",
    "                     ):\n",
    "    print(row)"
   ]
  },
  {
   "cell_type": "code",
   "execution_count": 18,
   "id": "42841670",
   "metadata": {},
   "outputs": [
    {
     "name": "stdout",
     "output_type": "stream",
     "text": [
      "('Badminton Court', '07', 165)\n",
      "('Badminton Court', '08', 414)\n",
      "('Badminton Court', '09', 507)\n",
      "('Massage Room 1', '07', 166)\n",
      "('Massage Room 1', '08', 316)\n",
      "('Massage Room 1', '09', 402)\n",
      "('Massage Room 2', '07', 8)\n",
      "('Massage Room 2', '08', 18)\n",
      "('Massage Room 2', '09', 28)\n",
      "('Pool Table', '07', 110)\n",
      "('Pool Table', '08', 303)\n",
      "('Pool Table', '09', 443)\n",
      "('Snooker Table', '07', 140)\n",
      "('Snooker Table', '08', 316)\n",
      "('Snooker Table', '09', 404)\n",
      "('Squash Court', '07', 50)\n",
      "('Squash Court', '08', 184)\n",
      "('Squash Court', '09', 184)\n",
      "('Table Tennis', '07', 98)\n",
      "('Table Tennis', '08', 296)\n",
      "('Table Tennis', '09', 400)\n",
      "('Tennis Court 1', '07', 201)\n",
      "('Tennis Court 1', '08', 339)\n",
      "('Tennis Court 1', '09', 417)\n",
      "('Tennis Court 2', '07', 123)\n",
      "('Tennis Court 2', '08', 345)\n",
      "('Tennis Court 2', '09', 414)\n"
     ]
    }
   ],
   "source": [
    "#Q13: Find the facilities usage by month, but not guests\n",
    "\n",
    "for row in c.execute(\n",
    "\"\"\"SELECT f.name AS facility, strftime('%m', b.starttime) AS month, SUM(b.slots) AS visits\n",
    "FROM Facilities AS f\n",
    "LEFT JOIN Bookings AS b ON f.facid = b.facid\n",
    "WHERE b.memid <> 0\n",
    "GROUP BY facility, month;\"\"\"                     \n",
    "                     ):\n",
    "    print(row)"
   ]
  },
  {
   "cell_type": "code",
   "execution_count": null,
   "id": "3ed11d0f",
   "metadata": {},
   "outputs": [],
   "source": []
  }
 ],
 "metadata": {
  "kernelspec": {
   "display_name": "Python 3 (ipykernel)",
   "language": "python",
   "name": "python3"
  },
  "language_info": {
   "codemirror_mode": {
    "name": "ipython",
    "version": 3
   },
   "file_extension": ".py",
   "mimetype": "text/x-python",
   "name": "python",
   "nbconvert_exporter": "python",
   "pygments_lexer": "ipython3",
   "version": "3.11.4"
  }
 },
 "nbformat": 4,
 "nbformat_minor": 5
}
